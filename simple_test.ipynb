{
 "cells": [
  {
   "cell_type": "code",
   "execution_count": null,
   "id": "fcc8a3f1",
   "metadata": {},
   "outputs": [],
   "source": [
    "from minigrad import Tensor, AIPModule, AIPLinear"
   ]
  },
  {
   "cell_type": "code",
   "execution_count": null,
   "id": "d9f19b66",
   "metadata": {},
   "outputs": [],
   "source": [
    "class SimpleMLP(AIPModule):\n",
    "    def __init__(self):\n",
    "        super().__init__()\n",
    "        self.fc1 = AIPLinear(2, 4)\n",
    "        self.fc2 = AIPLinear(4, 2)\n",
    "\n",
    "    def forward(self, x: Tensor) -> Tensor:\n",
    "        x = self.fc1(x).relu()\n",
    "        return self.fc2(x)\n",
    "\n",
    "    __call__ = forward\n",
    "    \n",
    "model = SimpleMLP()\n"
   ]
  },
  {
   "cell_type": "code",
   "execution_count": null,
   "id": "f7f3ffd1",
   "metadata": {},
   "outputs": [],
   "source": [
    "# Dummy input and target\n",
    "x = Tensor([[1.0, 2.0]], requires_grad=True)\n",
    "target = Tensor([[1.0, 0.0]], requires_grad=False)\n",
    "\n",
    "# Forward pass\n",
    "out = model(x)\n",
    "print(\"Output:\", out)\n",
    "\n",
    "# backward pass\n",
    "loss = ((out - target) ** 2).sum()\n",
    "loss.backward()"
   ]
  },
  {
   "cell_type": "code",
   "execution_count": null,
   "id": "efec423c",
   "metadata": {},
   "outputs": [],
   "source": [
    "print(\"Loss:\", loss)\n",
    "for name, param in model.named_parameters():\n",
    "    print(name, param.grad)"
   ]
  },
  {
   "cell_type": "code",
   "execution_count": null,
   "id": "d2584ed4",
   "metadata": {},
   "outputs": [],
   "source": [
    "model.zero_grad()"
   ]
  }
 ],
 "metadata": {
  "kernelspec": {
   "display_name": ".pytorch",
   "language": "python",
   "name": "python3"
  },
  "language_info": {
   "codemirror_mode": {
    "name": "ipython",
    "version": 3
   },
   "file_extension": ".py",
   "mimetype": "text/x-python",
   "name": "python",
   "nbconvert_exporter": "python",
   "pygments_lexer": "ipython3",
   "version": "3.11.5"
  }
 },
 "nbformat": 4,
 "nbformat_minor": 5
}
